{
 "cells": [
  {
   "cell_type": "markdown",
   "metadata": {},
   "source": [
    "# Nba Regular Season 2018-19 Data Challenge\n",
    "\n",
    "Your task will be to take the dataset given, and create an analysis answering the following 10 questions. This project will again test your knowledge of pandas in order to find the answers needed given the data you are presented with."
   ]
  },
  {
   "cell_type": "code",
   "execution_count": 1,
   "metadata": {},
   "outputs": [
    {
     "data": {
      "text/plain": [
       "Index(['Name', 'Height', 'Weight', 'Team', 'Age', 'Salary', 'Points', 'Blocks',\n",
       "       'Steals', 'Assists', 'Rebounds', 'FT%', 'FTA', 'FG3%', 'FG3A', 'FG%',\n",
       "       'FGA', 'MP', 'G', 'PER', 'OWS', 'DWS', 'WS', 'WS48', 'USG', 'BPM',\n",
       "       'VORP'],\n",
       "      dtype='object')"
      ]
     },
     "execution_count": 1,
     "metadata": {},
     "output_type": "execute_result"
    }
   ],
   "source": [
    "import pandas as pd\n",
    "nba = pd.read_csv('nbastats2018-2019.csv')\n",
    "nba.keys()"
   ]
  },
  {
   "cell_type": "markdown",
   "metadata": {},
   "source": [
    "# What was the average age of player in the league?"
   ]
  },
  {
   "cell_type": "code",
   "execution_count": 74,
   "metadata": {},
   "outputs": [
    {
     "data": {
      "text/plain": [
       "25.900191938579656"
      ]
     },
     "execution_count": 74,
     "metadata": {},
     "output_type": "execute_result"
    }
   ],
   "source": [
    "aveg_age = nba['Age'].describe()['mean']\n",
    "aveg_age"
   ]
  },
  {
   "cell_type": "markdown",
   "metadata": {},
   "source": [
    "# What player scored the most points?"
   ]
  },
  {
   "cell_type": "code",
   "execution_count": 75,
   "metadata": {},
   "outputs": [
    {
     "data": {
      "text/plain": [
       "202    James Harden\n",
       "Name: Name, dtype: object"
      ]
     },
     "execution_count": 75,
     "metadata": {},
     "output_type": "execute_result"
    }
   ],
   "source": [
    "max_point = nba['Points'].describe()['max']\n",
    "max_point\n",
    "high_score = nba[nba['Points'] == max_point]['Name']\n",
    "high_score"
   ]
  },
  {
   "cell_type": "markdown",
   "metadata": {},
   "source": [
    "# What player had the most blocks during the season? Was it a post player (F/C)?"
   ]
  },
  {
   "cell_type": "code",
   "execution_count": 76,
   "metadata": {},
   "outputs": [
    {
     "data": {
      "text/plain": [
       "476    Myles Turner\n",
       "Name: Name, dtype: object"
      ]
     },
     "execution_count": 76,
     "metadata": {},
     "output_type": "execute_result"
    }
   ],
   "source": [
    "max_block = nba['Blocks'].describe()['max']\n",
    "max_block\n",
    "high_block = nba[nba['Blocks'] == max_block]['Name']\n",
    "high_block"
   ]
  },
  {
   "cell_type": "markdown",
   "metadata": {},
   "source": [
    "# What player had the best 3-pt percentage? "
   ]
  },
  {
   "cell_type": "code",
   "execution_count": 78,
   "metadata": {},
   "outputs": [
    {
     "data": {
      "text/plain": [
       "147     Trevon Duval\n",
       "312    Scott Machado\n",
       "352    Eric Moreland\n",
       "439    Jordan Sibert\n",
       "Name: Name, dtype: object"
      ]
     },
     "execution_count": 78,
     "metadata": {},
     "output_type": "execute_result"
    }
   ],
   "source": [
    "max_3perc = nba['FG3%'].describe()['max']\n",
    "max_3perc\n",
    "high_3perc = nba[nba['FG3%'] == max_3perc]['Name']\n",
    "high_3perc"
   ]
  },
  {
   "cell_type": "markdown",
   "metadata": {},
   "source": [
    "# Who played the most minutes during the season"
   ]
  },
  {
   "cell_type": "code",
   "execution_count": 20,
   "metadata": {},
   "outputs": [
    {
     "data": {
      "text/plain": [
       "37     Bradley Beal\n",
       "179     Paul George\n",
       "Name: Name, dtype: object"
      ]
     },
     "execution_count": 20,
     "metadata": {},
     "output_type": "execute_result"
    }
   ],
   "source": [
    "most_time = nba['MP'].describe()['max']\n",
    "most_time\n",
    "high_most_time = nba[nba['MP'] == most_time]['Name']\n",
    "high_most_time "
   ]
  },
  {
   "cell_type": "markdown",
   "metadata": {},
   "source": [
    "# What player given their player effiecency rating was the clutchest during the season?"
   ]
  },
  {
   "cell_type": "code",
   "execution_count": 79,
   "metadata": {},
   "outputs": [
    {
     "data": {
      "text/plain": [
       "405    Zhou Qi\n",
       "Name: Name, dtype: object"
      ]
     },
     "execution_count": 79,
     "metadata": {},
     "output_type": "execute_result"
    }
   ],
   "source": [
    "best_eff = nba['PER'].describe()['max']\n",
    "best_eff\n",
    "best_eff_name = nba[nba['PER'] == best_eff]['Name']\n",
    "best_eff_name"
   ]
  },
  {
   "cell_type": "markdown",
   "metadata": {},
   "source": [
    "# What team had the youngest roster?"
   ]
  },
  {
   "cell_type": "code",
   "execution_count": 80,
   "metadata": {},
   "outputs": [
    {
     "data": {
      "text/plain": [
       "4    Chicago Bulls\n",
       "Name: Team, dtype: object"
      ]
     },
     "execution_count": 80,
     "metadata": {},
     "output_type": "execute_result"
    }
   ],
   "source": [
    "nba_g = nba.groupby('Team', as_index = False).mean()\n",
    "nba_g\n",
    "young_mean_age = nba_g[['Age', 'PER']].min()\n",
    "# type(young_mean_age)\n",
    "young_mean_age['Age']\n",
    "\n",
    "find_young = nba_g[nba_g['Age'] == young_mean_age['Age']]['Team']\n",
    "find_young \n",
    "\n",
    "\n"
   ]
  },
  {
   "cell_type": "markdown",
   "metadata": {},
   "source": [
    "# Who is the highest paid player during the seasion?"
   ]
  },
  {
   "cell_type": "code",
   "execution_count": 81,
   "metadata": {},
   "outputs": [
    {
     "data": {
      "text/plain": [
       "121    Stephen Curry\n",
       "Name: Name, dtype: object"
      ]
     },
     "execution_count": 81,
     "metadata": {},
     "output_type": "execute_result"
    }
   ],
   "source": [
    "def strInt(salary):\n",
    "    if salary['Salary'] == '-':\n",
    "        return 0\n",
    "    else:\n",
    "        return int(salary['Salary'])\n",
    "\n",
    "nba['salary_int'] = nba.apply(strInt, axis=1)    \n",
    "high_paid = nba['salary_int'].describe()['max']\n",
    "high_paid\n",
    "high_paid_name = nba[nba['salary_int'] == high_paid]['Name']\n",
    "high_paid_name\n",
    "\n"
   ]
  },
  {
   "cell_type": "markdown",
   "metadata": {},
   "source": [
    "# At the end of a game, who WOULDN'T you want on the Free Throw Line?"
   ]
  },
  {
   "cell_type": "code",
   "execution_count": 82,
   "metadata": {},
   "outputs": [
    {
     "data": {
      "text/plain": [
       "154           Jacob Evans\n",
       "221     Haywood Highsmith\n",
       "268        Terrence Jones\n",
       "325        Tahjere McCall\n",
       "356    Donatas Motiejunas\n",
       "360           Dzanan Musa\n",
       "502         C.J. Williams\n",
       "Name: Name, dtype: object"
      ]
     },
     "execution_count": 82,
     "metadata": {},
     "output_type": "execute_result"
    }
   ],
   "source": [
    "throw_line = nba['FT%'].describe()['min']\n",
    "throw_line \n",
    "min_throw_name = nba[nba['FT%'] == throw_line ]['Name']\n",
    "min_throw_name"
   ]
  }
 ],
 "metadata": {
  "kernelspec": {
   "display_name": "Python 3",
   "language": "python",
   "name": "python3"
  },
  "language_info": {
   "codemirror_mode": {
    "name": "ipython",
    "version": 3
   },
   "file_extension": ".py",
   "mimetype": "text/x-python",
   "name": "python",
   "nbconvert_exporter": "python",
   "pygments_lexer": "ipython3",
   "version": "3.8.8"
  }
 },
 "nbformat": 4,
 "nbformat_minor": 2
}
